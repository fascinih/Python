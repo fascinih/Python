{
  "nbformat": 4,
  "nbformat_minor": 0,
  "metadata": {
    "colab": {
      "name": "Twitter_Toyota_Analise de Sentimento.ipynb",
      "provenance": [],
      "collapsed_sections": [],
      "include_colab_link": true
    },
    "kernelspec": {
      "name": "python3",
      "display_name": "Python 3"
    }
  },
  "cells": [
    {
      "cell_type": "markdown",
      "metadata": {
        "id": "view-in-github",
        "colab_type": "text"
      },
      "source": [
        "<a href=\"https://colab.research.google.com/github/fascinih/Python/blob/master/Twitter_Toyota_Analise_de_Sentimento.ipynb\" target=\"_parent\"><img src=\"https://colab.research.google.com/assets/colab-badge.svg\" alt=\"Open In Colab\"/></a>"
      ]
    },
    {
      "cell_type": "code",
      "metadata": {
        "id": "tt2uOt0i2Jvq",
        "colab_type": "code",
        "outputId": "a13575a5-b1a6-47a4-8f15-94a86ac6d7ab",
        "colab": {
          "base_uri": "https://localhost:8080/",
          "height": 68
        }
      },
      "source": [
        "pip install textblob --upgrade"
      ],
      "execution_count": 0,
      "outputs": [
        {
          "output_type": "stream",
          "text": [
            "Requirement already up-to-date: textblob in /usr/local/lib/python3.6/dist-packages (0.15.3)\n",
            "Requirement already satisfied, skipping upgrade: nltk>=3.1 in /usr/local/lib/python3.6/dist-packages (from textblob) (3.2.5)\n",
            "Requirement already satisfied, skipping upgrade: six in /usr/local/lib/python3.6/dist-packages (from nltk>=3.1->textblob) (1.12.0)\n"
          ],
          "name": "stdout"
        }
      ]
    },
    {
      "cell_type": "markdown",
      "metadata": {
        "id": "QXBbneb2dArl",
        "colab_type": "text"
      },
      "source": [
        "#Analise de Sentimentos Twitter - Toyota Brasil"
      ]
    },
    {
      "cell_type": "markdown",
      "metadata": {
        "id": "w-2hpn3JdIgc",
        "colab_type": "text"
      },
      "source": [
        "Importando as bibliotecas e serem usadas:"
      ]
    },
    {
      "cell_type": "code",
      "metadata": {
        "id": "a0YsjUH3dLo-",
        "colab_type": "code",
        "colab": {}
      },
      "source": [
        "from textblob import TextBlob as tb\n",
        "import tweepy\n",
        "import numpy as np\n",
        "import nltk"
      ],
      "execution_count": 0,
      "outputs": []
    },
    {
      "cell_type": "markdown",
      "metadata": {
        "id": "KLMc0sGmcM9U",
        "colab_type": "text"
      },
      "source": [
        "#Acesso ao Twitter Developer App"
      ]
    },
    {
      "cell_type": "code",
      "metadata": {
        "id": "kR6xi8pZb0gC",
        "colab_type": "code",
        "colab": {}
      },
      "source": [
        "consumer_key = 'ka8auczNFGt9RlUtGoBOoNIff'\n",
        "consumer_secret = 'FiU8fZhoYqfYMPfiBbR8tmo3xbqvfccrPnqqgKReyS0elAnjzU'\n",
        "\n",
        "access_token = '1205298681534197760-3SzLW94ENnFZ0c6iQi2gGa1YZzVhF1'\n",
        "access_token_secret = 'LiGUDj1otLDOIolGxnCghBcbEPLiTcpmvXKm8r2W5ycwm'"
      ],
      "execution_count": 0,
      "outputs": []
    },
    {
      "cell_type": "code",
      "metadata": {
        "id": "39YibNH6cMZA",
        "colab_type": "code",
        "colab": {}
      },
      "source": [
        "auth = tweepy.OAuthHandler(consumer_key,consumer_secret)\n",
        "auth.set_access_token(access_token,access_token_secret)\n",
        "api = tweepy.API(auth)"
      ],
      "execution_count": 0,
      "outputs": []
    },
    {
      "cell_type": "markdown",
      "metadata": {
        "id": "pXU1-b5oogzU",
        "colab_type": "text"
      },
      "source": [
        "Filtrando o país para Brasil:"
      ]
    },
    {
      "cell_type": "code",
      "metadata": {
        "id": "uz1ZBKRIoi-a",
        "colab_type": "code",
        "colab": {}
      },
      "source": [
        "#places = api.geo_search(query=\"BRAZIL\", granularity=\"country\")\n",
        "#place_id = places[2].id"
      ],
      "execution_count": 0,
      "outputs": []
    },
    {
      "cell_type": "markdown",
      "metadata": {
        "id": "RtwzqhVMduRq",
        "colab_type": "text"
      },
      "source": [
        "Definindo o termo a ser buscado nos Tweets:"
      ]
    },
    {
      "cell_type": "code",
      "metadata": {
        "id": "hJ8doyAbejmt",
        "colab_type": "code",
        "colab": {}
      },
      "source": [
        "public_tweets = api.search(q='toyota', geocode=\"-23.5489,-46.6388,1000km\")"
      ],
      "execution_count": 0,
      "outputs": []
    },
    {
      "cell_type": "markdown",
      "metadata": {
        "id": "S9qRSxKRfZEx",
        "colab_type": "text"
      },
      "source": [
        "Definindo as variáveis que irão armazenar as polaridade:"
      ]
    },
    {
      "cell_type": "code",
      "metadata": {
        "id": "zHafu2YefVPB",
        "colab_type": "code",
        "colab": {}
      },
      "source": [
        "analysis = None"
      ],
      "execution_count": 0,
      "outputs": []
    },
    {
      "cell_type": "markdown",
      "metadata": {
        "id": "S709sJSWf_wV",
        "colab_type": "text"
      },
      "source": [
        "Criando loop para exibição dos tweets:"
      ]
    },
    {
      "cell_type": "code",
      "metadata": {
        "id": "nBlpVX6Cf7Y7",
        "colab_type": "code",
        "outputId": "a6da48c4-981a-4cbc-e391-9c225a1a443f",
        "colab": {
          "base_uri": "https://localhost:8080/",
          "height": 476
        }
      },
      "source": [
        "tweets = []\n",
        "for tweet in public_tweets:\n",
        "  #print(tweet.text)\n",
        "  analysis = tb(tweet.text)\n",
        "  analysis.translate(to=\"en\")\n",
        "  print(analysis)\n",
        "  polarity = analysis.sentiment.polarity\n",
        "  tweets.append(polarity)\n",
        "  print(polarity)"
      ],
      "execution_count": 0,
      "outputs": [
        {
          "output_type": "stream",
          "text": [
            "@VeroGamarra_ Te recomiendo el Toyota IST. Duradero, poco consumo, tamaño perfecto. Sobre todo si andas por Asunció… https://t.co/DEoqv866KY\n",
            "0.0\n",
            "@SkyeJedi27 @fqf_fk2 @globoesportecom Você tem algum tipo de dificuldade interpretativa? Sabe ler? A matéria diz qu… https://t.co/TkL9LpFJZi\n",
            "0.0\n",
            "@deboni__ @CeboIinhaaa e o outro também não era chamado de mundial, era copa toyota\n",
            "0.0\n"
          ],
          "name": "stdout"
        },
        {
          "output_type": "error",
          "ename": "NotTranslated",
          "evalue": "ignored",
          "traceback": [
            "\u001b[0;31m---------------------------------------------------------------------------\u001b[0m",
            "\u001b[0;31mNotTranslated\u001b[0m                             Traceback (most recent call last)",
            "\u001b[0;32m<ipython-input-97-a7e16d6c2d46>\u001b[0m in \u001b[0;36m<module>\u001b[0;34m()\u001b[0m\n\u001b[1;32m      3\u001b[0m   \u001b[0;31m#print(tweet.text)\u001b[0m\u001b[0;34m\u001b[0m\u001b[0;34m\u001b[0m\u001b[0;34m\u001b[0m\u001b[0m\n\u001b[1;32m      4\u001b[0m   \u001b[0manalysis\u001b[0m \u001b[0;34m=\u001b[0m \u001b[0mtb\u001b[0m\u001b[0;34m(\u001b[0m\u001b[0mtweet\u001b[0m\u001b[0;34m.\u001b[0m\u001b[0mtext\u001b[0m\u001b[0;34m)\u001b[0m\u001b[0;34m\u001b[0m\u001b[0;34m\u001b[0m\u001b[0m\n\u001b[0;32m----> 5\u001b[0;31m   \u001b[0manalysis\u001b[0m\u001b[0;34m.\u001b[0m\u001b[0mtranslate\u001b[0m\u001b[0;34m(\u001b[0m\u001b[0mto\u001b[0m\u001b[0;34m=\u001b[0m\u001b[0;34m\"en\"\u001b[0m\u001b[0;34m)\u001b[0m\u001b[0;34m\u001b[0m\u001b[0;34m\u001b[0m\u001b[0m\n\u001b[0m\u001b[1;32m      6\u001b[0m   \u001b[0mprint\u001b[0m\u001b[0;34m(\u001b[0m\u001b[0manalysis\u001b[0m\u001b[0;34m)\u001b[0m\u001b[0;34m\u001b[0m\u001b[0;34m\u001b[0m\u001b[0m\n\u001b[1;32m      7\u001b[0m   \u001b[0mpolarity\u001b[0m \u001b[0;34m=\u001b[0m \u001b[0manalysis\u001b[0m\u001b[0;34m.\u001b[0m\u001b[0msentiment\u001b[0m\u001b[0;34m.\u001b[0m\u001b[0mpolarity\u001b[0m\u001b[0;34m\u001b[0m\u001b[0;34m\u001b[0m\u001b[0m\n",
            "\u001b[0;32m/usr/local/lib/python3.6/dist-packages/textblob/blob.py\u001b[0m in \u001b[0;36mtranslate\u001b[0;34m(self, from_lang, to)\u001b[0m\n\u001b[1;32m    545\u001b[0m         \"\"\"\n\u001b[1;32m    546\u001b[0m         return self.__class__(self.translator.translate(self.raw,\n\u001b[0;32m--> 547\u001b[0;31m                               from_lang=from_lang, to_lang=to))\n\u001b[0m\u001b[1;32m    548\u001b[0m \u001b[0;34m\u001b[0m\u001b[0m\n\u001b[1;32m    549\u001b[0m     \u001b[0;32mdef\u001b[0m \u001b[0mdetect_language\u001b[0m\u001b[0;34m(\u001b[0m\u001b[0mself\u001b[0m\u001b[0;34m)\u001b[0m\u001b[0;34m:\u001b[0m\u001b[0;34m\u001b[0m\u001b[0;34m\u001b[0m\u001b[0m\n",
            "\u001b[0;32m/usr/local/lib/python3.6/dist-packages/textblob/translate.py\u001b[0m in \u001b[0;36mtranslate\u001b[0;34m(self, source, from_lang, to_lang, host, type_)\u001b[0m\n\u001b[1;32m     59\u001b[0m             \u001b[0;32mexcept\u001b[0m \u001b[0mIndexError\u001b[0m\u001b[0;34m:\u001b[0m\u001b[0;34m\u001b[0m\u001b[0;34m\u001b[0m\u001b[0m\n\u001b[1;32m     60\u001b[0m                 \u001b[0;32mpass\u001b[0m\u001b[0;34m\u001b[0m\u001b[0;34m\u001b[0m\u001b[0m\n\u001b[0;32m---> 61\u001b[0;31m         \u001b[0mself\u001b[0m\u001b[0;34m.\u001b[0m\u001b[0m_validate_translation\u001b[0m\u001b[0;34m(\u001b[0m\u001b[0msource\u001b[0m\u001b[0;34m,\u001b[0m \u001b[0mresult\u001b[0m\u001b[0;34m)\u001b[0m\u001b[0;34m\u001b[0m\u001b[0;34m\u001b[0m\u001b[0m\n\u001b[0m\u001b[1;32m     62\u001b[0m         \u001b[0;32mreturn\u001b[0m \u001b[0mresult\u001b[0m\u001b[0;34m\u001b[0m\u001b[0;34m\u001b[0m\u001b[0m\n\u001b[1;32m     63\u001b[0m \u001b[0;34m\u001b[0m\u001b[0m\n",
            "\u001b[0;32m/usr/local/lib/python3.6/dist-packages/textblob/translate.py\u001b[0m in \u001b[0;36m_validate_translation\u001b[0;34m(self, source, result)\u001b[0m\n\u001b[1;32m     83\u001b[0m             \u001b[0mresult\u001b[0m \u001b[0;34m=\u001b[0m \u001b[0mresult\u001b[0m\u001b[0;34m.\u001b[0m\u001b[0mencode\u001b[0m\u001b[0;34m(\u001b[0m\u001b[0;34m'utf-8'\u001b[0m\u001b[0;34m)\u001b[0m\u001b[0;34m\u001b[0m\u001b[0;34m\u001b[0m\u001b[0m\n\u001b[1;32m     84\u001b[0m         \u001b[0;32mif\u001b[0m \u001b[0mresult\u001b[0m\u001b[0;34m.\u001b[0m\u001b[0mstrip\u001b[0m\u001b[0;34m(\u001b[0m\u001b[0;34m)\u001b[0m \u001b[0;34m==\u001b[0m \u001b[0msource\u001b[0m\u001b[0;34m.\u001b[0m\u001b[0mstrip\u001b[0m\u001b[0;34m(\u001b[0m\u001b[0;34m)\u001b[0m\u001b[0;34m:\u001b[0m\u001b[0;34m\u001b[0m\u001b[0;34m\u001b[0m\u001b[0m\n\u001b[0;32m---> 85\u001b[0;31m             \u001b[0;32mraise\u001b[0m \u001b[0mNotTranslated\u001b[0m\u001b[0;34m(\u001b[0m\u001b[0;34m'Translation API returned the input string unchanged.'\u001b[0m\u001b[0;34m)\u001b[0m\u001b[0;34m\u001b[0m\u001b[0;34m\u001b[0m\u001b[0m\n\u001b[0m\u001b[1;32m     86\u001b[0m \u001b[0;34m\u001b[0m\u001b[0m\n\u001b[1;32m     87\u001b[0m     \u001b[0;32mdef\u001b[0m \u001b[0m_request\u001b[0m\u001b[0;34m(\u001b[0m\u001b[0mself\u001b[0m\u001b[0;34m,\u001b[0m \u001b[0murl\u001b[0m\u001b[0;34m,\u001b[0m \u001b[0mhost\u001b[0m\u001b[0;34m=\u001b[0m\u001b[0;32mNone\u001b[0m\u001b[0;34m,\u001b[0m \u001b[0mtype_\u001b[0m\u001b[0;34m=\u001b[0m\u001b[0;32mNone\u001b[0m\u001b[0;34m,\u001b[0m \u001b[0mdata\u001b[0m\u001b[0;34m=\u001b[0m\u001b[0;32mNone\u001b[0m\u001b[0;34m)\u001b[0m\u001b[0;34m:\u001b[0m\u001b[0;34m\u001b[0m\u001b[0;34m\u001b[0m\u001b[0m\n",
            "\u001b[0;31mNotTranslated\u001b[0m: Translation API returned the input string unchanged."
          ]
        }
      ]
    },
    {
      "cell_type": "markdown",
      "metadata": {
        "id": "u6yXmjTNhtEk",
        "colab_type": "text"
      },
      "source": [
        "#A função sentiment.polarity retornará um número entre -1 e 1, onde quanto maior esse número, menos irritada a pessoa esta."
      ]
    },
    {
      "cell_type": "code",
      "metadata": {
        "id": "1wcIfKkUgbpT",
        "colab_type": "code",
        "outputId": "ab032b5c-ae65-4233-a69b-be262deb3f70",
        "colab": {
          "base_uri": "https://localhost:8080/",
          "height": 34
        }
      },
      "source": [
        "print('MÉDIA DE SENTIMENTO: '+ str(np.mean(tweets)))"
      ],
      "execution_count": 0,
      "outputs": [
        {
          "output_type": "stream",
          "text": [
            "MÉDIA DE SENTIMENTO: 0.02333333333333333\n"
          ],
          "name": "stdout"
        }
      ]
    }
  ]
}